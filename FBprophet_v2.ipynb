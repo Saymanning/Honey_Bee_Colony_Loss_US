{
  "nbformat": 4,
  "nbformat_minor": 0,
  "metadata": {
    "colab": {
      "name": "FBprophet_v2.ipynb",
      "provenance": [],
      "collapsed_sections": [],
      "authorship_tag": "ABX9TyMAKtW7drmCzCflPRpFv40R",
      "include_colab_link": true
    },
    "kernelspec": {
      "name": "python3",
      "display_name": "Python 3"
    },
    "language_info": {
      "name": "python"
    }
  },
  "cells": [
    {
      "cell_type": "markdown",
      "metadata": {
        "id": "view-in-github",
        "colab_type": "text"
      },
      "source": [
        "<a href=\"https://colab.research.google.com/github/Saymanning/Honey_Bee_Colony_Loss_US/blob/Machine-Learning/FBprophet_v2.ipynb\" target=\"_parent\"><img src=\"https://colab.research.google.com/assets/colab-badge.svg\" alt=\"Open In Colab\"/></a>"
      ]
    },
    {
      "cell_type": "code",
      "metadata": {
        "colab": {
          "base_uri": "https://localhost:8080/"
        },
        "id": "w5scygfLsweA",
        "outputId": "cbd7bb3f-5312-4f38-ba99-7b699e5676a3"
      },
      "source": [
        "!pip install prophet"
      ],
      "execution_count": 3,
      "outputs": [
        {
          "output_type": "stream",
          "text": [
            "Collecting prophet\n",
            "  Downloading prophet-1.0.1.tar.gz (65 kB)\n",
            "\u001b[K     |████████████████████████████████| 65 kB 2.2 MB/s \n",
            "\u001b[?25hRequirement already satisfied: Cython>=0.22 in /usr/local/lib/python3.7/dist-packages (from prophet) (0.29.23)\n",
            "Collecting cmdstanpy==0.9.68\n",
            "  Downloading cmdstanpy-0.9.68-py3-none-any.whl (49 kB)\n",
            "\u001b[K     |████████████████████████████████| 49 kB 4.7 MB/s \n",
            "\u001b[?25hRequirement already satisfied: pystan~=2.19.1.1 in /usr/local/lib/python3.7/dist-packages (from prophet) (2.19.1.1)\n",
            "Requirement already satisfied: numpy>=1.15.4 in /usr/local/lib/python3.7/dist-packages (from prophet) (1.19.5)\n",
            "Requirement already satisfied: pandas>=1.0.4 in /usr/local/lib/python3.7/dist-packages (from prophet) (1.1.5)\n",
            "Requirement already satisfied: matplotlib>=2.0.0 in /usr/local/lib/python3.7/dist-packages (from prophet) (3.2.2)\n",
            "Requirement already satisfied: LunarCalendar>=0.0.9 in /usr/local/lib/python3.7/dist-packages (from prophet) (0.0.9)\n",
            "Requirement already satisfied: convertdate>=2.1.2 in /usr/local/lib/python3.7/dist-packages (from prophet) (2.3.2)\n",
            "Requirement already satisfied: holidays>=0.10.2 in /usr/local/lib/python3.7/dist-packages (from prophet) (0.10.5.2)\n",
            "Requirement already satisfied: setuptools-git>=1.2 in /usr/local/lib/python3.7/dist-packages (from prophet) (1.2)\n",
            "Requirement already satisfied: python-dateutil>=2.8.0 in /usr/local/lib/python3.7/dist-packages (from prophet) (2.8.1)\n",
            "Requirement already satisfied: tqdm>=4.36.1 in /usr/local/lib/python3.7/dist-packages (from prophet) (4.41.1)\n",
            "Collecting ujson\n",
            "  Downloading ujson-4.0.2-cp37-cp37m-manylinux1_x86_64.whl (179 kB)\n",
            "\u001b[K     |████████████████████████████████| 179 kB 13.4 MB/s \n",
            "\u001b[?25hRequirement already satisfied: pymeeus<=1,>=0.3.13 in /usr/local/lib/python3.7/dist-packages (from convertdate>=2.1.2->prophet) (0.5.11)\n",
            "Requirement already satisfied: pytz>=2014.10 in /usr/local/lib/python3.7/dist-packages (from convertdate>=2.1.2->prophet) (2018.9)\n",
            "Requirement already satisfied: korean-lunar-calendar in /usr/local/lib/python3.7/dist-packages (from holidays>=0.10.2->prophet) (0.2.1)\n",
            "Requirement already satisfied: six in /usr/local/lib/python3.7/dist-packages (from holidays>=0.10.2->prophet) (1.15.0)\n",
            "Requirement already satisfied: hijri-converter in /usr/local/lib/python3.7/dist-packages (from holidays>=0.10.2->prophet) (2.1.3)\n",
            "Requirement already satisfied: ephem>=3.7.5.3 in /usr/local/lib/python3.7/dist-packages (from LunarCalendar>=0.0.9->prophet) (4.0.0.2)\n",
            "Requirement already satisfied: kiwisolver>=1.0.1 in /usr/local/lib/python3.7/dist-packages (from matplotlib>=2.0.0->prophet) (1.3.1)\n",
            "Requirement already satisfied: cycler>=0.10 in /usr/local/lib/python3.7/dist-packages (from matplotlib>=2.0.0->prophet) (0.10.0)\n",
            "Requirement already satisfied: pyparsing!=2.0.4,!=2.1.2,!=2.1.6,>=2.0.1 in /usr/local/lib/python3.7/dist-packages (from matplotlib>=2.0.0->prophet) (2.4.7)\n",
            "Building wheels for collected packages: prophet\n",
            "  Building wheel for prophet (setup.py) ... \u001b[?25l\u001b[?25hcanceled\u001b[31mERROR: Operation cancelled by user\u001b[0m\n"
          ],
          "name": "stdout"
        }
      ]
    },
    {
      "cell_type": "code",
      "metadata": {
        "id": "b_TbgqDGtTt-"
      },
      "source": [
        "import pandas as pd\n",
        "from pandas import DataFrame\n",
        "from fbprophet import Prophet\n",
        "from matplotlib import pyplot"
      ],
      "execution_count": 102,
      "outputs": []
    },
    {
      "cell_type": "code",
      "metadata": {
        "id": "55VW3QvcmZhb"
      },
      "source": [
        "data = \"https://raw.githubusercontent.com/Saymanning/Honey_Bee_Colony_Loss_US/main/Resources/Clean_Bee_Pop.csv\""
      ],
      "execution_count": 103,
      "outputs": []
    },
    {
      "cell_type": "code",
      "metadata": {
        "colab": {
          "base_uri": "https://localhost:8080/",
          "height": 204
        },
        "id": "-R3DSWIftVQ8",
        "outputId": "8920c387-0e93-4f93-9555-b88250bff5bf"
      },
      "source": [
        "# Import our input dataset\n",
        "Clean_Bee_Pop_df = pd.read_csv(data)\n",
        "Clean_Bee_Pop_df.head()"
      ],
      "execution_count": 105,
      "outputs": [
        {
          "output_type": "execute_result",
          "data": {
            "text/html": [
              "<div>\n",
              "<style scoped>\n",
              "    .dataframe tbody tr th:only-of-type {\n",
              "        vertical-align: middle;\n",
              "    }\n",
              "\n",
              "    .dataframe tbody tr th {\n",
              "        vertical-align: top;\n",
              "    }\n",
              "\n",
              "    .dataframe thead th {\n",
              "        text-align: right;\n",
              "    }\n",
              "</style>\n",
              "<table border=\"1\" class=\"dataframe\">\n",
              "  <thead>\n",
              "    <tr style=\"text-align: right;\">\n",
              "      <th></th>\n",
              "      <th>Year</th>\n",
              "      <th>State</th>\n",
              "      <th>colonies</th>\n",
              "      <th>Maximum_colonies1</th>\n",
              "      <th>Lost_colonies</th>\n",
              "      <th>Percent_lost2</th>\n",
              "      <th>Varroa_mites</th>\n",
              "      <th>Other_parasites</th>\n",
              "      <th>Diseases</th>\n",
              "      <th>Pestticides</th>\n",
              "      <th>Other3</th>\n",
              "      <th>Unknown</th>\n",
              "      <th>POPULATION</th>\n",
              "    </tr>\n",
              "  </thead>\n",
              "  <tbody>\n",
              "    <tr>\n",
              "      <th>0</th>\n",
              "      <td>2015</td>\n",
              "      <td>AL</td>\n",
              "      <td>8000</td>\n",
              "      <td>8000</td>\n",
              "      <td>610</td>\n",
              "      <td>8</td>\n",
              "      <td>3</td>\n",
              "      <td>6</td>\n",
              "      <td>0</td>\n",
              "      <td>0</td>\n",
              "      <td>3</td>\n",
              "      <td>2</td>\n",
              "      <td>4852347</td>\n",
              "    </tr>\n",
              "    <tr>\n",
              "      <th>1</th>\n",
              "      <td>2015</td>\n",
              "      <td>AZ</td>\n",
              "      <td>36000</td>\n",
              "      <td>39000</td>\n",
              "      <td>12000</td>\n",
              "      <td>31</td>\n",
              "      <td>50</td>\n",
              "      <td>2</td>\n",
              "      <td>1</td>\n",
              "      <td>4</td>\n",
              "      <td>1</td>\n",
              "      <td>16</td>\n",
              "      <td>6829676</td>\n",
              "    </tr>\n",
              "    <tr>\n",
              "      <th>2</th>\n",
              "      <td>2015</td>\n",
              "      <td>AR</td>\n",
              "      <td>23000</td>\n",
              "      <td>27000</td>\n",
              "      <td>2400</td>\n",
              "      <td>9</td>\n",
              "      <td>38</td>\n",
              "      <td>10</td>\n",
              "      <td>0</td>\n",
              "      <td>8</td>\n",
              "      <td>9</td>\n",
              "      <td>1</td>\n",
              "      <td>2978048</td>\n",
              "    </tr>\n",
              "    <tr>\n",
              "      <th>3</th>\n",
              "      <td>2015</td>\n",
              "      <td>CA</td>\n",
              "      <td>750000</td>\n",
              "      <td>1260000</td>\n",
              "      <td>149000</td>\n",
              "      <td>12</td>\n",
              "      <td>37</td>\n",
              "      <td>13</td>\n",
              "      <td>6</td>\n",
              "      <td>12</td>\n",
              "      <td>11</td>\n",
              "      <td>7</td>\n",
              "      <td>38918045</td>\n",
              "    </tr>\n",
              "    <tr>\n",
              "      <th>4</th>\n",
              "      <td>2015</td>\n",
              "      <td>CO</td>\n",
              "      <td>24000</td>\n",
              "      <td>24000</td>\n",
              "      <td>2500</td>\n",
              "      <td>10</td>\n",
              "      <td>48</td>\n",
              "      <td>24</td>\n",
              "      <td>21</td>\n",
              "      <td>20</td>\n",
              "      <td>8</td>\n",
              "      <td>2</td>\n",
              "      <td>5450623</td>\n",
              "    </tr>\n",
              "  </tbody>\n",
              "</table>\n",
              "</div>"
            ],
            "text/plain": [
              "   Year State  colonies  ...  Other3  Unknown  POPULATION\n",
              "0  2015    AL      8000  ...       3        2     4852347\n",
              "1  2015    AZ     36000  ...       1       16     6829676\n",
              "2  2015    AR     23000  ...       9        1     2978048\n",
              "3  2015    CA    750000  ...      11        7    38918045\n",
              "4  2015    CO     24000  ...       8        2     5450623\n",
              "\n",
              "[5 rows x 13 columns]"
            ]
          },
          "metadata": {
            "tags": []
          },
          "execution_count": 105
        }
      ]
    },
    {
      "cell_type": "code",
      "metadata": {
        "colab": {
          "base_uri": "https://localhost:8080/"
        },
        "id": "mSJE1sWZ4X3E",
        "outputId": "e7ec1746-1dda-4871-8871-b03e67d8f4f5"
      },
      "source": [
        "# load the dataset\n",
        "from pandas import read_csv\n",
        "# load data\n",
        "path = \"https://raw.githubusercontent.com/Saymanning/Honey_Bee_Colony_Loss_US/main/Resources/Clean_Bee_Pop.csv\"\n",
        "df = read_csv(path, header=0)\n",
        "# summarize shape\n",
        "print(df.shape)\n",
        "# show first few rows\n",
        "print(df.head())"
      ],
      "execution_count": 106,
      "outputs": [
        {
          "output_type": "stream",
          "text": [
            "(225, 13)\n",
            "   Year State  colonies  ...  Other3  Unknown  POPULATION\n",
            "0  2015    AL      8000  ...       3        2     4852347\n",
            "1  2015    AZ     36000  ...       1       16     6829676\n",
            "2  2015    AR     23000  ...       9        1     2978048\n",
            "3  2015    CA    750000  ...      11        7    38918045\n",
            "4  2015    CO     24000  ...       8        2     5450623\n",
            "\n",
            "[5 rows x 13 columns]\n"
          ],
          "name": "stdout"
        }
      ]
    },
    {
      "cell_type": "code",
      "metadata": {
        "id": "6RL4ikHE7hQv"
      },
      "source": [
        "df.drop(['State','colonies','Maximum_colonies1','Percent_lost2','Varroa_mites','Other_parasites','Diseases','Pestticides','Other3','Unknown'],axis=1, inplace=True)"
      ],
      "execution_count": 107,
      "outputs": []
    },
    {
      "cell_type": "code",
      "metadata": {
        "colab": {
          "base_uri": "https://localhost:8080/",
          "height": 204
        },
        "id": "4ev1nYgt9wKR",
        "outputId": "3b3893ac-206f-411b-c83c-683a94161da4"
      },
      "source": [
        "df.head()"
      ],
      "execution_count": 108,
      "outputs": [
        {
          "output_type": "execute_result",
          "data": {
            "text/html": [
              "<div>\n",
              "<style scoped>\n",
              "    .dataframe tbody tr th:only-of-type {\n",
              "        vertical-align: middle;\n",
              "    }\n",
              "\n",
              "    .dataframe tbody tr th {\n",
              "        vertical-align: top;\n",
              "    }\n",
              "\n",
              "    .dataframe thead th {\n",
              "        text-align: right;\n",
              "    }\n",
              "</style>\n",
              "<table border=\"1\" class=\"dataframe\">\n",
              "  <thead>\n",
              "    <tr style=\"text-align: right;\">\n",
              "      <th></th>\n",
              "      <th>Year</th>\n",
              "      <th>Lost_colonies</th>\n",
              "      <th>POPULATION</th>\n",
              "    </tr>\n",
              "  </thead>\n",
              "  <tbody>\n",
              "    <tr>\n",
              "      <th>0</th>\n",
              "      <td>2015</td>\n",
              "      <td>610</td>\n",
              "      <td>4852347</td>\n",
              "    </tr>\n",
              "    <tr>\n",
              "      <th>1</th>\n",
              "      <td>2015</td>\n",
              "      <td>12000</td>\n",
              "      <td>6829676</td>\n",
              "    </tr>\n",
              "    <tr>\n",
              "      <th>2</th>\n",
              "      <td>2015</td>\n",
              "      <td>2400</td>\n",
              "      <td>2978048</td>\n",
              "    </tr>\n",
              "    <tr>\n",
              "      <th>3</th>\n",
              "      <td>2015</td>\n",
              "      <td>149000</td>\n",
              "      <td>38918045</td>\n",
              "    </tr>\n",
              "    <tr>\n",
              "      <th>4</th>\n",
              "      <td>2015</td>\n",
              "      <td>2500</td>\n",
              "      <td>5450623</td>\n",
              "    </tr>\n",
              "  </tbody>\n",
              "</table>\n",
              "</div>"
            ],
            "text/plain": [
              "   Year  Lost_colonies  POPULATION\n",
              "0  2015            610     4852347\n",
              "1  2015          12000     6829676\n",
              "2  2015           2400     2978048\n",
              "3  2015         149000    38918045\n",
              "4  2015           2500     5450623"
            ]
          },
          "metadata": {
            "tags": []
          },
          "execution_count": 108
        }
      ]
    },
    {
      "cell_type": "code",
      "metadata": {
        "id": "marUH7jH-LEv"
      },
      "source": [
        "df.drop('POPULATION',axis=1, inplace=True)"
      ],
      "execution_count": 109,
      "outputs": []
    },
    {
      "cell_type": "code",
      "metadata": {
        "colab": {
          "base_uri": "https://localhost:8080/",
          "height": 204
        },
        "id": "4vpO-cP9-qOv",
        "outputId": "bd155547-1297-4232-d7c9-1cb39b3cc27d"
      },
      "source": [
        "df.head()"
      ],
      "execution_count": 110,
      "outputs": [
        {
          "output_type": "execute_result",
          "data": {
            "text/html": [
              "<div>\n",
              "<style scoped>\n",
              "    .dataframe tbody tr th:only-of-type {\n",
              "        vertical-align: middle;\n",
              "    }\n",
              "\n",
              "    .dataframe tbody tr th {\n",
              "        vertical-align: top;\n",
              "    }\n",
              "\n",
              "    .dataframe thead th {\n",
              "        text-align: right;\n",
              "    }\n",
              "</style>\n",
              "<table border=\"1\" class=\"dataframe\">\n",
              "  <thead>\n",
              "    <tr style=\"text-align: right;\">\n",
              "      <th></th>\n",
              "      <th>Year</th>\n",
              "      <th>Lost_colonies</th>\n",
              "    </tr>\n",
              "  </thead>\n",
              "  <tbody>\n",
              "    <tr>\n",
              "      <th>0</th>\n",
              "      <td>2015</td>\n",
              "      <td>610</td>\n",
              "    </tr>\n",
              "    <tr>\n",
              "      <th>1</th>\n",
              "      <td>2015</td>\n",
              "      <td>12000</td>\n",
              "    </tr>\n",
              "    <tr>\n",
              "      <th>2</th>\n",
              "      <td>2015</td>\n",
              "      <td>2400</td>\n",
              "    </tr>\n",
              "    <tr>\n",
              "      <th>3</th>\n",
              "      <td>2015</td>\n",
              "      <td>149000</td>\n",
              "    </tr>\n",
              "    <tr>\n",
              "      <th>4</th>\n",
              "      <td>2015</td>\n",
              "      <td>2500</td>\n",
              "    </tr>\n",
              "  </tbody>\n",
              "</table>\n",
              "</div>"
            ],
            "text/plain": [
              "   Year  Lost_colonies\n",
              "0  2015            610\n",
              "1  2015          12000\n",
              "2  2015           2400\n",
              "3  2015         149000\n",
              "4  2015           2500"
            ]
          },
          "metadata": {
            "tags": []
          },
          "execution_count": 110
        }
      ]
    },
    {
      "cell_type": "code",
      "metadata": {
        "colab": {
          "base_uri": "https://localhost:8080/"
        },
        "id": "2qm32Y6qgXuz",
        "outputId": "38db64d7-9520-41e6-b233-226728bb8e08"
      },
      "source": [
        "# summarize shape\n",
        "print(df.shape)\n",
        "# show first few rows\n",
        "print(df.head())"
      ],
      "execution_count": 111,
      "outputs": [
        {
          "output_type": "stream",
          "text": [
            "(225, 2)\n",
            "   Year  Lost_colonies\n",
            "0  2015            610\n",
            "1  2015          12000\n",
            "2  2015           2400\n",
            "3  2015         149000\n",
            "4  2015           2500\n"
          ],
          "name": "stdout"
        }
      ]
    },
    {
      "cell_type": "code",
      "metadata": {
        "colab": {
          "base_uri": "https://localhost:8080/",
          "height": 265
        },
        "id": "mB-qBlIf35-0",
        "outputId": "983778e4-020f-4594-8d7a-ee013ff7f58d"
      },
      "source": [
        "# plot the time series\n",
        "df.plot()\n",
        "pyplot.show()"
      ],
      "execution_count": 112,
      "outputs": [
        {
          "output_type": "display_data",
          "data": {
            "image/png": "[encoded data removed]",
            "text/plain": [
              "<Figure size 432x288 with 1 Axes>"
            ]
          },
          "metadata": {
            "tags": [],
            "needs_background": "light"
          }
        }
      ]
    },
    {
      "cell_type": "code",
      "metadata": {
        "id": "MSomQ3hikxwR"
      },
      "source": [
        "# prepare expected column names\n",
        "df.columns = ['ds', 'y']"
      ],
      "execution_count": 113,
      "outputs": []
    },
    {
      "cell_type": "code",
      "metadata": {
        "colab": {
          "base_uri": "https://localhost:8080/",
          "height": 204
        },
        "id": "i4tLuQ7ek309",
        "outputId": "e4719d2e-c4c6-470a-a643-8c91ef8d6560"
      },
      "source": [
        "df.head()"
      ],
      "execution_count": 114,
      "outputs": [
        {
          "output_type": "execute_result",
          "data": {
            "text/html": [
              "<div>\n",
              "<style scoped>\n",
              "    .dataframe tbody tr th:only-of-type {\n",
              "        vertical-align: middle;\n",
              "    }\n",
              "\n",
              "    .dataframe tbody tr th {\n",
              "        vertical-align: top;\n",
              "    }\n",
              "\n",
              "    .dataframe thead th {\n",
              "        text-align: right;\n",
              "    }\n",
              "</style>\n",
              "<table border=\"1\" class=\"dataframe\">\n",
              "  <thead>\n",
              "    <tr style=\"text-align: right;\">\n",
              "      <th></th>\n",
              "      <th>ds</th>\n",
              "      <th>y</th>\n",
              "    </tr>\n",
              "  </thead>\n",
              "  <tbody>\n",
              "    <tr>\n",
              "      <th>0</th>\n",
              "      <td>2015</td>\n",
              "      <td>610</td>\n",
              "    </tr>\n",
              "    <tr>\n",
              "      <th>1</th>\n",
              "      <td>2015</td>\n",
              "      <td>12000</td>\n",
              "    </tr>\n",
              "    <tr>\n",
              "      <th>2</th>\n",
              "      <td>2015</td>\n",
              "      <td>2400</td>\n",
              "    </tr>\n",
              "    <tr>\n",
              "      <th>3</th>\n",
              "      <td>2015</td>\n",
              "      <td>149000</td>\n",
              "    </tr>\n",
              "    <tr>\n",
              "      <th>4</th>\n",
              "      <td>2015</td>\n",
              "      <td>2500</td>\n",
              "    </tr>\n",
              "  </tbody>\n",
              "</table>\n",
              "</div>"
            ],
            "text/plain": [
              "     ds       y\n",
              "0  2015     610\n",
              "1  2015   12000\n",
              "2  2015    2400\n",
              "3  2015  149000\n",
              "4  2015    2500"
            ]
          },
          "metadata": {
            "tags": []
          },
          "execution_count": 114
        }
      ]
    },
    {
      "cell_type": "code",
      "metadata": {
        "colab": {
          "base_uri": "https://localhost:8080/"
        },
        "id": "JWq7ccqkg1Ex",
        "outputId": "afce613b-e4df-478f-c3f6-ab237f9b5236"
      },
      "source": [
        "# define the model\n",
        "model = Prophet()\n",
        "# fit the model\n",
        "model.fit(df)"
      ],
      "execution_count": 127,
      "outputs": [
        {
          "output_type": "stream",
          "text": [
            "INFO:fbprophet:Disabling weekly seasonality. Run prophet with weekly_seasonality=True to override this.\n",
            "INFO:fbprophet:Disabling daily seasonality. Run prophet with daily_seasonality=True to override this.\n"
          ],
          "name": "stderr"
        },
        {
          "output_type": "execute_result",
          "data": {
            "text/plain": [
              "<fbprophet.forecaster.Prophet at 0x7faeaf350350>"
            ]
          },
          "metadata": {
            "tags": []
          },
          "execution_count": 127
        }
      ]
    },
    {
      "cell_type": "code",
      "metadata": {
        "colab": {
          "base_uri": "https://localhost:8080/"
        },
        "id": "uaA4B5vCmAop",
        "outputId": "c586a6a4-3f3e-4050-e40d-288e4c07d745"
      },
      "source": [
        "print(\"type of m\" , type(m))\n"
      ],
      "execution_count": 128,
      "outputs": [
        {
          "output_type": "stream",
          "text": [
            "type of m <class 'fbprophet.forecaster.Prophet'>\n"
          ],
          "name": "stdout"
        }
      ]
    },
    {
      "cell_type": "code",
      "metadata": {
        "colab": {
          "base_uri": "https://localhost:8080/"
        },
        "id": "OQk6ql9zmC6d",
        "outputId": "a94dfb40-2d44-4b87-b18a-353089090f62"
      },
      "source": [
        "### Extending data to few future dates\n",
        "future = m.make_future_dataframe(periods=365)\n",
        "print(\"type of future\" , type(future))"
      ],
      "execution_count": 129,
      "outputs": [
        {
          "output_type": "stream",
          "text": [
            "type of future <class 'pandas.core.frame.DataFrame'>\n"
          ],
          "name": "stdout"
        }
      ]
    },
    {
      "cell_type": "code",
      "metadata": {
        "colab": {
          "base_uri": "https://localhost:8080/"
        },
        "id": "viZZUPYSmHR-",
        "outputId": "aa8fbc8b-a211-425e-b543-dd4453963ebb"
      },
      "source": [
        "### The predict method will assign each row in future a predicted value which it names yhat\n",
        "forecast = m.predict(future)\n",
        "print(\"type of forecast\" , type(future))\n",
        "# print(forecast[['ds', 'yhat', 'yhat_lower', 'yhat_upper']].tail())\n"
      ],
      "execution_count": 130,
      "outputs": [
        {
          "output_type": "stream",
          "text": [
            "type of forecast <class 'pandas.core.frame.DataFrame'>\n"
          ],
          "name": "stdout"
        }
      ]
    },
    {
      "cell_type": "code",
      "metadata": {
        "colab": {
          "base_uri": "https://localhost:8080/",
          "height": 441
        },
        "id": "UNqnJ4RfmLT-",
        "outputId": "bb10f17e-bdfc-4fd5-f4a7-2ac619efe66d"
      },
      "source": [
        "### Plotting forecast\n",
        "fig1 = m.plot(forecast)\n",
        "# fig1.show()\n",
        "fig1.savefig('01_fbprophet.png')"
      ],
      "execution_count": 131,
      "outputs": [
        {
          "output_type": "display_data",
          "data": {
            "image/png": "[encoded data removed]",
            "text/plain": [
              "<Figure size 720x432 with 1 Axes>"
            ]
          },
          "metadata": {
            "tags": []
          }
        }
      ]
    },
    {
      "cell_type": "code",
      "metadata": {
        "colab": {
          "base_uri": "https://localhost:8080/",
          "height": 441
        },
        "id": "OGdbFlNGmUxP",
        "outputId": "a96912d1-8048-42bb-eb1c-07663f754b95"
      },
      "source": [
        "### Plotting forecast components\n",
        "fig2 = m.plot_components(forecast)\n",
        "fig2.savefig('01_fbprophet_02.png')"
      ],
      "execution_count": 125,
      "outputs": [
        {
          "output_type": "display_data",
          "data": {
            "image/png": "[encoded data removed]",
            "text/plain": [
              "<Figure size 648x432 with 2 Axes>"
            ]
          },
          "metadata": {
            "tags": []
          }
        }
      ]
    },
    {
      "cell_type": "code",
      "metadata": {
        "colab": {
          "base_uri": "https://localhost:8080/"
        },
        "id": "BHCxfgDXmfa3",
        "outputId": "90f8418b-cd37-4797-abfa-8464ec45f77b"
      },
      "source": [
        "print('*** Program Completed ***')"
      ],
      "execution_count": 126,
      "outputs": [
        {
          "output_type": "stream",
          "text": [
            "*** Program Completed ***\n"
          ],
          "name": "stdout"
        }
      ]
    }
  ]
}