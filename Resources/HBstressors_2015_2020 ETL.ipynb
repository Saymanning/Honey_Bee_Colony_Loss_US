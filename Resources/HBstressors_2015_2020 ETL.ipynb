{
 "cells": [
  {
   "cell_type": "code",
   "execution_count": 1,
   "metadata": {},
   "outputs": [],
   "source": [
    "# Import dependancies\n",
    "import pandas as pd\n",
    "\n",
    "# Load data\n",
    "HBstressors_2015_2020_df = pd.read_csv(\"HBstressors_2015_2020.csv\")\n",
    "\n",
    "# , na_values = [\"(NA)\", \"-\"]"
   ]
  },
  {
   "cell_type": "code",
   "execution_count": 2,
   "metadata": {},
   "outputs": [],
   "source": [
    "# Clean the dataframe by replacing \"(Z)\" with 0.\n",
    "HBstressors_2015_2020_df.replace(\"(Z)\", 0, inplace=True)\n",
    "HBstressors_2015_2020_df.replace(\"-\", 0, inplace=True)\n",
    "HBstressors_2015_2020_df.replace(\"(NA)\", 0, inplace=True)"
   ]
  },
  {
   "cell_type": "code",
   "execution_count": 3,
   "metadata": {},
   "outputs": [],
   "source": [
    "# Clean dataframe by removint the \"US\" row data\n",
    "HBstressors_2015_2020_df=HBstressors_2015_2020_df.loc[HBstressors_2015_2020_df.State!= \"US\"]"
   ]
  },
  {
   "cell_type": "code",
   "execution_count": 4,
   "metadata": {},
   "outputs": [],
   "source": [
    "# Remove the index column\n",
    "HBstressors_2015_2020_df.reset_index(drop=True, inplace=True)"
   ]
  },
  {
   "cell_type": "code",
   "execution_count": 5,
   "metadata": {},
   "outputs": [],
   "source": [
    "# Rename and save file.\n",
    "HBstressors_2015_2020_df.to_csv(\"processed_stressor_data.csv\", index=False)"
   ]
  },
  {
   "cell_type": "code",
   "execution_count": 6,
   "metadata": {},
   "outputs": [
    {
     "data": {
      "text/plain": [
       "State                                object\n",
       "Varroa_mites_Percent                 object\n",
       "Other_pests_and_parasites_Percent    object\n",
       "Diseases_Percent                     object\n",
       "Pesticides_Percent                   object\n",
       "Other_Percent                        object\n",
       "Unknown_Percent                      object\n",
       "Year                                  int64\n",
       "Qtr                                  object\n",
       "dtype: object"
      ]
     },
     "execution_count": 6,
     "metadata": {},
     "output_type": "execute_result"
    }
   ],
   "source": [
    "# Determine data types for the DataFrame.\n",
    "HBstressors_2015_2020_df.dtypes"
   ]
  }
 ],
 "metadata": {
  "kernelspec": {
   "display_name": "Python 3",
   "language": "python",
   "name": "python3"
  },
  "language_info": {
   "codemirror_mode": {
    "name": "ipython",
    "version": 3
   },
   "file_extension": ".py",
   "mimetype": "text/x-python",
   "name": "python",
   "nbconvert_exporter": "python",
   "pygments_lexer": "ipython3",
   "version": "3.8.5"
  }
 },
 "nbformat": 4,
 "nbformat_minor": 4
}
