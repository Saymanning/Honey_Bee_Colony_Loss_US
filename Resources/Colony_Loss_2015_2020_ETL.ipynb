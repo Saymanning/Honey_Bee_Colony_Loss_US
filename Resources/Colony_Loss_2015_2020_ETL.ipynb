{
 "cells": [
  {
   "cell_type": "code",
   "execution_count": 7,
   "metadata": {},
   "outputs": [],
   "source": [
    "# Import dependancies\n",
    "import pandas as pd\n",
    "\n",
    "# Load data\n",
    "\n",
    "Colony_Loss_2015_2020_df = pd.read_csv(\"Colony_Loss_2015_2020.csv\")\n",
    "#, na_values = [\"(NA)\", \"-\", \"(X)\", \" \"]"
   ]
  },
  {
   "cell_type": "code",
   "execution_count": 8,
   "metadata": {},
   "outputs": [],
   "source": [
    "# Clean the dataframe by replacing \"(Z)\" with 0.\n",
    "Colony_Loss_2015_2020_df.replace(\"(Z)\", 0, inplace=True)\n",
    "Colony_Loss_2015_2020_df.replace(\"-\", 0, inplace=True)\n",
    "Colony_Loss_2015_2020_df.replace(\"(NA)\", 0, inplace=True)\n",
    "Colony_Loss_2015_2020_df.replace(\"(X)\", 0, inplace=True)"
   ]
  },
  {
   "cell_type": "code",
   "execution_count": 9,
   "metadata": {},
   "outputs": [],
   "source": [
    "# Clean dataframe by removint the \"US\" row data\n",
    "Colony_Loss_2015_2020_df=Colony_Loss_2015_2020_df.loc[Colony_Loss_2015_2020_df.State!= \"US\"]"
   ]
  },
  {
   "cell_type": "code",
   "execution_count": 10,
   "metadata": {},
   "outputs": [],
   "source": [
    "# Remove the index column\n",
    "Colony_Loss_2015_2020_df.reset_index(drop=True, inplace=True)"
   ]
  },
  {
   "cell_type": "code",
   "execution_count": 11,
   "metadata": {},
   "outputs": [
    {
     "data": {
      "text/plain": [
       "State                    object\n",
       "Number_of_Colonies       object\n",
       "Maximum_colonies_1/      object\n",
       "Lost_Colonies            object\n",
       "Percent_Loss_2/          object\n",
       "Added_Colonies           object\n",
       "Renovated_colonies_3/    object\n",
       "Percent_renovated_4/     object\n",
       "Year                      int64\n",
       "Qtr                      object\n",
       "dtype: object"
      ]
     },
     "execution_count": 11,
     "metadata": {},
     "output_type": "execute_result"
    }
   ],
   "source": [
    "# Determine data types for the DataFrame.\n",
    "Colony_Loss_2015_2020_df.dtypes"
   ]
  },
  {
   "cell_type": "code",
   "execution_count": 12,
   "metadata": {},
   "outputs": [],
   "source": [
    "# Rename and save file.\n",
    "Colony_Loss_2015_2020_df.to_csv(\"processed_loss_data.csv\", index=False)"
   ]
  }
 ],
 "metadata": {
  "kernelspec": {
   "display_name": "Python 3",
   "language": "python",
   "name": "python3"
  },
  "language_info": {
   "codemirror_mode": {
    "name": "ipython",
    "version": 3
   },
   "file_extension": ".py",
   "mimetype": "text/x-python",
   "name": "python",
   "nbconvert_exporter": "python",
   "pygments_lexer": "ipython3",
   "version": "3.8.5"
  }
 },
 "nbformat": 4,
 "nbformat_minor": 4
}
